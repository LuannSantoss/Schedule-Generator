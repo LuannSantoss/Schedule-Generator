{
 "cells": [
  {
   "cell_type": "markdown",
   "id": "a034b52c",
   "metadata": {},
   "source": [
    "# Importing libraries"
   ]
  },
  {
   "cell_type": "code",
   "execution_count": 1,
   "id": "2b8324e7",
   "metadata": {},
   "outputs": [],
   "source": [
    "import numpy as np\n",
    "import pandas as pd\n",
    "import random"
   ]
  },
  {
   "cell_type": "markdown",
   "id": "c5eb2d47",
   "metadata": {},
   "source": [
    "# Getting number and name of workers "
   ]
  },
  {
   "cell_type": "code",
   "execution_count": 2,
   "id": "af2d0be7",
   "metadata": {},
   "outputs": [
    {
     "name": "stdout",
     "output_type": "stream",
     "text": [
      "Digite a quantidade de funcionários (numérico): 5\n",
      "Digite os nomes dos funcionários: \n",
      "Maria\n",
      "Carlos\n",
      "Henrique\n",
      "Carolina\n",
      "Fernanda\n"
     ]
    }
   ],
   "source": [
    "lista = []\n",
    "number = int(input('Digite a quantidade de funcionários (numérico): '))\n",
    "print('Digite os nomes dos funcionários: ')\n",
    "for i in range(number):\n",
    "    data = input()\n",
    "    lista.append(data)"
   ]
  },
  {
   "cell_type": "code",
   "execution_count": 3,
   "id": "b86a2107",
   "metadata": {},
   "outputs": [],
   "source": [
    "dic = {}\n",
    "lista_numerica = []\n",
    "for i in range(0,number):\n",
    "    lista_numerica.append(i)\n",
    "    dic[i] = lista[i]"
   ]
  },
  {
   "cell_type": "code",
   "execution_count": 4,
   "id": "f0e977a4",
   "metadata": {},
   "outputs": [
    {
     "data": {
      "text/plain": [
       "{0: 'Maria', 1: 'Carlos', 2: 'Henrique', 3: 'Carolina', 4: 'Fernanda'}"
      ]
     },
     "execution_count": 4,
     "metadata": {},
     "output_type": "execute_result"
    }
   ],
   "source": [
    "dic"
   ]
  },
  {
   "cell_type": "code",
   "execution_count": 5,
   "id": "8449e9c5",
   "metadata": {},
   "outputs": [
    {
     "name": "stdout",
     "output_type": "stream",
     "text": [
      "Para uma distribuição igual, a QUANTIDADE DE DIAS X QUANTIDADE DE TURNOS tem que ser múltipla de 5\n"
     ]
    }
   ],
   "source": [
    "print('Para uma distribuição igual, a QUANTIDADE DE DIAS X QUANTIDADE DE TURNOS tem que ser múltipla de',number)"
   ]
  },
  {
   "cell_type": "code",
   "execution_count": 6,
   "id": "f0dc8a1e",
   "metadata": {},
   "outputs": [],
   "source": [
    "copia_lista = lista_numerica"
   ]
  },
  {
   "cell_type": "markdown",
   "id": "254a0cc7",
   "metadata": {},
   "source": [
    "# Choosing how many shifts per day and how many days it will be"
   ]
  },
  {
   "cell_type": "code",
   "execution_count": 7,
   "id": "8daf849a",
   "metadata": {},
   "outputs": [
    {
     "name": "stdout",
     "output_type": "stream",
     "text": [
      "Qual o total de turnos de trabalho? 6\n",
      "Quantos dias de trabalho? 5\n"
     ]
    }
   ],
   "source": [
    "mult = int(input('Qual o total de turnos de trabalho? '))\n",
    "dias = int(input('Quantos dias de trabalho? '))\n",
    "lista_numerica = lista_numerica*mult*dias"
   ]
  },
  {
   "cell_type": "code",
   "execution_count": 8,
   "id": "b12ea29c",
   "metadata": {},
   "outputs": [],
   "source": [
    "matriz_exemplo = np.arange(dias*mult,dias*mult*2)"
   ]
  },
  {
   "cell_type": "code",
   "execution_count": 9,
   "id": "f7697823",
   "metadata": {},
   "outputs": [],
   "source": [
    "#CASO HAJA RESTRIÇÃO DE HORÁRIOS, RETIRAR #\n",
    "#matriz_exemplo[3] = 0\n",
    "#matriz_exemplo"
   ]
  },
  {
   "cell_type": "code",
   "execution_count": 10,
   "id": "4dea742e",
   "metadata": {},
   "outputs": [],
   "source": [
    "for i in range(0,mult*dias):\n",
    "    if matriz_exemplo[i] in copia_lista:\n",
    "        lista_numerica.remove(matriz_exemplo[i])\n",
    "        pass\n",
    "    else:\n",
    "        matriz_exemplo[i] = random.choice(lista_numerica)\n",
    "        lista_numerica.remove(matriz_exemplo[i])"
   ]
  },
  {
   "cell_type": "code",
   "execution_count": 11,
   "id": "40c98a6d",
   "metadata": {
    "scrolled": true
   },
   "outputs": [
    {
     "data": {
      "text/html": [
       "<div>\n",
       "<style scoped>\n",
       "    .dataframe tbody tr th:only-of-type {\n",
       "        vertical-align: middle;\n",
       "    }\n",
       "\n",
       "    .dataframe tbody tr th {\n",
       "        vertical-align: top;\n",
       "    }\n",
       "\n",
       "    .dataframe thead th {\n",
       "        text-align: right;\n",
       "    }\n",
       "</style>\n",
       "<table border=\"1\" class=\"dataframe\">\n",
       "  <thead>\n",
       "    <tr style=\"text-align: right;\">\n",
       "      <th></th>\n",
       "      <th>Turno1</th>\n",
       "      <th>Turno2</th>\n",
       "      <th>Turno3</th>\n",
       "      <th>Turno4</th>\n",
       "      <th>Turno5</th>\n",
       "      <th>Turno6</th>\n",
       "    </tr>\n",
       "  </thead>\n",
       "  <tbody>\n",
       "    <tr>\n",
       "      <th>Dia1</th>\n",
       "      <td>Maria</td>\n",
       "      <td>Fernanda</td>\n",
       "      <td>Carolina</td>\n",
       "      <td>Carolina</td>\n",
       "      <td>Henrique</td>\n",
       "      <td>Henrique</td>\n",
       "    </tr>\n",
       "    <tr>\n",
       "      <th>Dia2</th>\n",
       "      <td>Fernanda</td>\n",
       "      <td>Henrique</td>\n",
       "      <td>Maria</td>\n",
       "      <td>Carlos</td>\n",
       "      <td>Henrique</td>\n",
       "      <td>Fernanda</td>\n",
       "    </tr>\n",
       "    <tr>\n",
       "      <th>Dia3</th>\n",
       "      <td>Henrique</td>\n",
       "      <td>Fernanda</td>\n",
       "      <td>Carlos</td>\n",
       "      <td>Henrique</td>\n",
       "      <td>Carlos</td>\n",
       "      <td>Fernanda</td>\n",
       "    </tr>\n",
       "    <tr>\n",
       "      <th>Dia4</th>\n",
       "      <td>Carlos</td>\n",
       "      <td>Carlos</td>\n",
       "      <td>Henrique</td>\n",
       "      <td>Carlos</td>\n",
       "      <td>Henrique</td>\n",
       "      <td>Maria</td>\n",
       "    </tr>\n",
       "    <tr>\n",
       "      <th>Dia5</th>\n",
       "      <td>Henrique</td>\n",
       "      <td>Henrique</td>\n",
       "      <td>Henrique</td>\n",
       "      <td>Maria</td>\n",
       "      <td>Fernanda</td>\n",
       "      <td>Maria</td>\n",
       "    </tr>\n",
       "  </tbody>\n",
       "</table>\n",
       "</div>"
      ],
      "text/plain": [
       "        Turno1    Turno2    Turno3    Turno4    Turno5    Turno6\n",
       "Dia1     Maria  Fernanda  Carolina  Carolina  Henrique  Henrique\n",
       "Dia2  Fernanda  Henrique     Maria    Carlos  Henrique  Fernanda\n",
       "Dia3  Henrique  Fernanda    Carlos  Henrique    Carlos  Fernanda\n",
       "Dia4    Carlos    Carlos  Henrique    Carlos  Henrique     Maria\n",
       "Dia5  Henrique  Henrique  Henrique     Maria  Fernanda     Maria"
      ]
     },
     "execution_count": 11,
     "metadata": {},
     "output_type": "execute_result"
    }
   ],
   "source": [
    "matriz_exemplo = matriz_exemplo.reshape(dias,mult)\n",
    "df = pd.DataFrame(matriz_exemplo)\n",
    "for i in copia_lista:\n",
    "    df.replace(i,dic[i],inplace = True)\n",
    "lista_dias = []\n",
    "for i in df.columns:\n",
    "    aux = 'Turno'+str(i+1)\n",
    "    df = df.rename(columns={i:aux})\n",
    "for i in range(dias):\n",
    "    lista_dias.append('Dia'+str(i+1))\n",
    "df = df.set_index([pd.Index(lista_dias)])\n",
    "df"
   ]
  }
 ],
 "metadata": {
  "kernelspec": {
   "display_name": "Python 3",
   "language": "python",
   "name": "python3"
  },
  "language_info": {
   "codemirror_mode": {
    "name": "ipython",
    "version": 3
   },
   "file_extension": ".py",
   "mimetype": "text/x-python",
   "name": "python",
   "nbconvert_exporter": "python",
   "pygments_lexer": "ipython3",
   "version": "3.8.8"
  }
 },
 "nbformat": 4,
 "nbformat_minor": 5
}
